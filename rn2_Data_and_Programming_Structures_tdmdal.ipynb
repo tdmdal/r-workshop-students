{
  "nbformat": 4,
  "nbformat_minor": 0,
  "metadata": {
    "kernelspec": {
      "display_name": "R",
      "language": "R",
      "name": "ir"
    },
    "language_info": {
      "codemirror_mode": "r",
      "file_extension": ".r",
      "mimetype": "text/x-r-source",
      "name": "R",
      "pygments_lexer": "r",
      "version": "3.5.0"
    },
    "colab": {
      "name": "rn2 Data and Programming Structures tdmdal",
      "provenance": []
    }
  },
  "cells": [
    {
      "cell_type": "markdown",
      "metadata": {
        "id": "KWNwTRVUioKv",
        "colab_type": "text"
      },
      "source": [
        "# 1. Expression & Assignment\n",
        "\n",
        "You can write an expression and get a result immediately. Below we calculate $2 + \\sqrt{4} + ln(e^2) + 2^2$."
      ]
    },
    {
      "cell_type": "code",
      "metadata": {
        "id": "_Fb_txBt_y_J",
        "colab_type": "code",
        "colab": {
          "base_uri": "https://localhost:8080/",
          "height": 34
        },
        "outputId": "ad592130-ce8e-4756-ce31-81e50a6204ba"
      },
      "source": [
        "# an expression\n",
        "2 + sqrt(4) + log(exp(2)) + 2^2"
      ],
      "execution_count": 1,
      "outputs": [
        {
          "output_type": "display_data",
          "data": {
            "text/plain": [
              "[1] 10"
            ],
            "text/latex": "10",
            "text/markdown": "10",
            "text/html": [
              "10"
            ]
          },
          "metadata": {
            "tags": []
          }
        }
      ]
    },
    {
      "cell_type": "markdown",
      "metadata": {
        "id": "XRny9zuzj5Gd",
        "colab_type": "text"
      },
      "source": [
        "You could also assign an expression to a variable and then print out the variable."
      ]
    },
    {
      "cell_type": "code",
      "metadata": {
        "id": "V138ixeH_y_S",
        "colab_type": "code",
        "colab": {
          "base_uri": "https://localhost:8080/",
          "height": 35
        },
        "outputId": "2d19d29d-ce7b-49cc-c29c-c813ca61eeb4"
      },
      "source": [
        "# assignment\n",
        "x <- (pi == 3.14)\n",
        "print(x)"
      ],
      "execution_count": 2,
      "outputs": [
        {
          "output_type": "stream",
          "text": [
            "[1] FALSE\n"
          ],
          "name": "stdout"
        }
      ]
    },
    {
      "cell_type": "markdown",
      "metadata": {
        "id": "NigV52x_lGWt",
        "colab_type": "text"
      },
      "source": [
        "`<-` is the assignment operator.\n",
        "\n",
        "Aside: Why `\"<-\"` but not `\"=\"` like in most other programming languages? In fact, `\"=\"` is also an assignment operator in R, but it's slightly different from `\"<-\"`. If you want to know more about R's assignment operators, read [this stackoverflow post](https://stackoverflow.com/questions/1741820/what-are-the-differences-between-and-assignment-operators-in-r).\n",
        "\n",
        "# 2. Data Structure\n",
        "\n",
        "R's basic data structure can be summarized as below.\n",
        "\n",
        "| Dimension | Homogeneous   | Heterogeneous |\n",
        "|:---------:|:-------------:|:-------------:|\n",
        "| 1D        | Atomic vector | List          |\n",
        "| 2D        | Matrix        | Dataframe     |\n",
        "| nD        | Array         | -             |\n",
        "\n",
        "## 2.1 Atomic vector"
      ]
    },
    {
      "cell_type": "code",
      "metadata": {
        "id": "_2aBKG0B_y_X",
        "colab_type": "code",
        "colab": {}
      },
      "source": [
        "# create R vectors\n",
        "vec_character <- c(\"Hello,\", \"World!\")\n",
        "vec_integer <- c(1L, 2L, 3L)\n",
        "vec_double <- c(1.1, 2.2, 3.3, -4.4)\n",
        "vec_logical <- c(TRUE, TRUE, FALSE)"
      ],
      "execution_count": 0,
      "outputs": []
    },
    {
      "cell_type": "markdown",
      "metadata": {
        "id": "trQ2yZFNoePD",
        "colab_type": "text"
      },
      "source": [
        "`c()` is a function in base R. It combines values into a vector.\n",
        "\n",
        "You can retrieve an element in a vector using the `[]` with a numeric index. R's vector indexing starts with `1`."
      ]
    },
    {
      "cell_type": "code",
      "metadata": {
        "id": "ohlnFmav_6k0",
        "colab_type": "code",
        "colab": {
          "base_uri": "https://localhost:8080/",
          "height": 35
        },
        "outputId": "7cd54301-68ae-4611-9bf2-306cfa58b415"
      },
      "source": [
        "# retrieve the first element of vec_double\n",
        "print(vec_double[1])"
      ],
      "execution_count": 4,
      "outputs": [
        {
          "output_type": "stream",
          "text": [
            "[1] 1.1\n"
          ],
          "name": "stdout"
        }
      ]
    },
    {
      "cell_type": "markdown",
      "metadata": {
        "id": "F8inatT5poVK",
        "colab_type": "text"
      },
      "source": [
        "Select multiple elements in a vector is also easy."
      ]
    },
    {
      "cell_type": "code",
      "metadata": {
        "id": "L9nHLj68C9U4",
        "colab_type": "code",
        "colab": {
          "base_uri": "https://localhost:8080/",
          "height": 109
        },
        "outputId": "e97e1627-37ab-435f-c659-4b5f9bec20de"
      },
      "source": [
        "# select multiple elements\n",
        "print(vec_double[c(1, 3)])\n",
        "print(vec_double[1:2])\n",
        "print(vec_double[c(-1, -2)])\n",
        "print(vec_double[c(TRUE, FALSE, TRUE, FALSE)])\n",
        "print(vec_double[vec_double < 0])"
      ],
      "execution_count": 5,
      "outputs": [
        {
          "output_type": "stream",
          "text": [
            "[1] 1.1 3.3\n",
            "[1] 1.1 2.2\n",
            "[1]  3.3 -4.4\n",
            "[1] 1.1 3.3\n",
            "[1] -4.4\n"
          ],
          "name": "stdout"
        }
      ]
    },
    {
      "cell_type": "markdown",
      "metadata": {
        "id": "TQlbX7z_vPhb",
        "colab_type": "text"
      },
      "source": [
        "`str()` is a handy function to display the structure of a vector (or any object in general)."
      ]
    },
    {
      "cell_type": "code",
      "metadata": {
        "id": "FnkVzQcTvkSz",
        "colab_type": "code",
        "colab": {
          "base_uri": "https://localhost:8080/",
          "height": 90
        },
        "outputId": "4714f332-5013-4cc8-fd75-34180c045cf2"
      },
      "source": [
        "# display structure of a vector\n",
        "str(vec_character)\n",
        "str(vec_integer)\n",
        "str(vec_double)\n",
        "str(vec_logical)"
      ],
      "execution_count": 6,
      "outputs": [
        {
          "output_type": "stream",
          "text": [
            " chr [1:2] \"Hello,\" \"World!\"\n",
            " int [1:3] 1 2 3\n",
            " num [1:4] 1.1 2.2 3.3 -4.4\n",
            " logi [1:3] TRUE TRUE FALSE\n"
          ],
          "name": "stdout"
        }
      ]
    },
    {
      "cell_type": "markdown",
      "metadata": {
        "id": "2rZmimXMv_JY",
        "colab_type": "text"
      },
      "source": [
        "`length()` is another useful function to tell you the length of a vector."
      ]
    },
    {
      "cell_type": "code",
      "metadata": {
        "id": "3QDzfvW0wIb9",
        "colab_type": "code",
        "colab": {
          "base_uri": "https://localhost:8080/",
          "height": 35
        },
        "outputId": "de2aa0a4-c060-4414-b751-bc9452144c18"
      },
      "source": [
        "# display length of a vector\n",
        "print(length(vec_double))"
      ],
      "execution_count": 7,
      "outputs": [
        {
          "output_type": "stream",
          "text": [
            "[1] 4\n"
          ],
          "name": "stdout"
        }
      ]
    },
    {
      "cell_type": "markdown",
      "metadata": {
        "id": "tQRrVibjr8rW",
        "colab_type": "text"
      },
      "source": [
        "### Exercise - 2.1\n",
        "\n",
        "Define two vectors `(1, 2, -3)` and `(4, -5, -6)`. Perform an element-wise multiplication, and sum up the positive elements in the resulting vector (hint: 1. use operator `*` for element-wise multiplication; 2. use `sum()` function to sum up elements in a numeric vector)."
      ]
    },
    {
      "cell_type": "code",
      "metadata": {
        "id": "9b4OtC34muGS",
        "colab_type": "code",
        "colab": {
          "base_uri": "https://localhost:8080/",
          "height": 35
        },
        "outputId": "e158998e-cb46-4b6b-fbd6-77cd833881a7"
      },
      "source": [
        "# your code playground here\n",
        "\n",
        "v1 <- c(1, 2, -3)\n",
        "v2 <- c(4, -5, -6)\n",
        "\n",
        "v3 <- v1 * v2\n",
        "print(sum(v3[v3 > 0]))"
      ],
      "execution_count": 8,
      "outputs": [
        {
          "output_type": "stream",
          "text": [
            "[1] 22\n"
          ],
          "name": "stdout"
        }
      ]
    },
    {
      "cell_type": "markdown",
      "metadata": {
        "id": "vsyeY9vQxMAE",
        "colab_type": "text"
      },
      "source": [
        "## 2.2 List\n",
        "\n",
        "List is another kind of 1-dimension vector. It can contain different types of elements."
      ]
    },
    {
      "cell_type": "code",
      "metadata": {
        "id": "whXlXzX5FQnE",
        "colab_type": "code",
        "colab": {
          "base_uri": "https://localhost:8080/",
          "height": 127
        },
        "outputId": "9d7e99cd-da31-412b-f082-039649a0f1f1"
      },
      "source": [
        "l1 <- list(\n",
        "  1:3, \n",
        "  \"a\", \n",
        "  c(TRUE, FALSE, TRUE), \n",
        "  c(2.3, 5.9),\n",
        "  c(1L, 2L)\n",
        ")\n",
        "\n",
        "str(l1)"
      ],
      "execution_count": 9,
      "outputs": [
        {
          "output_type": "stream",
          "text": [
            "List of 5\n",
            " $ : int [1:3] 1 2 3\n",
            " $ : chr \"a\"\n",
            " $ : logi [1:3] TRUE FALSE TRUE\n",
            " $ : num [1:2] 2.3 5.9\n",
            " $ : int [1:2] 1 2\n"
          ],
          "name": "stdout"
        }
      ]
    },
    {
      "cell_type": "markdown",
      "metadata": {
        "id": "jI-31hHM1sA8",
        "colab_type": "text"
      },
      "source": [
        "List can contain list as well."
      ]
    },
    {
      "cell_type": "code",
      "metadata": {
        "id": "evZbiypPmtWh",
        "colab_type": "code",
        "colab": {
          "base_uri": "https://localhost:8080/",
          "height": 90
        },
        "outputId": "6ea24c4f-c66e-4fb4-b260-9b5e1ccf020d"
      },
      "source": [
        "l2 <- list(list(list(1)))\n",
        "str(l2)"
      ],
      "execution_count": 10,
      "outputs": [
        {
          "output_type": "stream",
          "text": [
            "List of 1\n",
            " $ :List of 1\n",
            "  ..$ :List of 1\n",
            "  .. ..$ : num 1\n"
          ],
          "name": "stdout"
        }
      ]
    },
    {
      "cell_type": "markdown",
      "metadata": {
        "id": "JHobz5TH2P-h",
        "colab_type": "text"
      },
      "source": [
        "Retrieving elements in a list is similar as retrieving elements in a vector."
      ]
    },
    {
      "cell_type": "code",
      "metadata": {
        "id": "EDc6aVaPOaxN",
        "colab_type": "code",
        "colab": {
          "base_uri": "https://localhost:8080/",
          "height": 127
        },
        "outputId": "9e846e75-14fd-45f6-99b7-40e3e3622596"
      },
      "source": [
        "str(l1[1:2])\n",
        "str(l1[c(1, 3)])"
      ],
      "execution_count": 11,
      "outputs": [
        {
          "output_type": "stream",
          "text": [
            "List of 2\n",
            " $ : int [1:3] 1 2 3\n",
            " $ : chr \"a\"\n",
            "List of 2\n",
            " $ : int [1:3] 1 2 3\n",
            " $ : logi [1:3] TRUE FALSE TRUE\n"
          ],
          "name": "stdout"
        }
      ]
    },
    {
      "cell_type": "markdown",
      "metadata": {
        "id": "LGVqrmuF2D1L",
        "colab_type": "text"
      },
      "source": [
        "Note that using `[]` always returns a list. To return the element in a list as it is, use `[[]]`. `[[]]` only returns one single element, so you can only specify a single index."
      ]
    },
    {
      "cell_type": "code",
      "metadata": {
        "id": "rSuF3qfg19zP",
        "colab_type": "code",
        "colab": {
          "base_uri": "https://localhost:8080/",
          "height": 35
        },
        "outputId": "499f2df2-c769-4ee8-d77a-a30af6938269"
      },
      "source": [
        "str(l1[[1]])"
      ],
      "execution_count": 12,
      "outputs": [
        {
          "output_type": "stream",
          "text": [
            " int [1:3] 1 2 3\n"
          ],
          "name": "stdout"
        }
      ]
    },
    {
      "cell_type": "markdown",
      "metadata": {
        "id": "efyFJjWU34ox",
        "colab_type": "text"
      },
      "source": [
        "### Exercise - 2.2\n",
        "\n",
        "Retrieve the vector `(2.3, 5.9)` in the below list and sum up its elements. "
      ]
    },
    {
      "cell_type": "code",
      "metadata": {
        "id": "0fYtZvj029oA",
        "colab_type": "code",
        "colab": {
          "base_uri": "https://localhost:8080/",
          "height": 35
        },
        "outputId": "443675d8-45d0-4709-d331-84c9091e2654"
      },
      "source": [
        "# define a list\n",
        "l_ex <- list(\n",
        "  1:3, \n",
        "  list(\n",
        "    \"a\", \n",
        "    c(2.3, 5.9)\n",
        "  )\n",
        ")\n",
        "\n",
        "# your code below\n",
        "print(sum(l_ex[[2]][[2]]))"
      ],
      "execution_count": 13,
      "outputs": [
        {
          "output_type": "stream",
          "text": [
            "[1] 8.2\n"
          ],
          "name": "stdout"
        }
      ]
    },
    {
      "cell_type": "markdown",
      "metadata": {
        "id": "qQ9o22z27x0u",
        "colab_type": "text"
      },
      "source": [
        "## 2.3 Matrix (self-study)\n",
        "\n",
        "\n",
        "Use `matrix()` function to create a matrix. Use `dim()` to find dimension of a matrix."
      ]
    },
    {
      "cell_type": "code",
      "metadata": {
        "id": "OdSCGeYh4ALY",
        "colab_type": "code",
        "colab": {
          "base_uri": "https://localhost:8080/",
          "height": 90
        },
        "outputId": "ebff841c-777c-468a-a6e7-9cfdfca16019"
      },
      "source": [
        "# use the matrix() function to create a matrix\n",
        "y <- matrix(1:6, nrow = 2, ncol = 3)\n",
        "print(y)\n",
        "print(dim(y))"
      ],
      "execution_count": 14,
      "outputs": [
        {
          "output_type": "stream",
          "text": [
            "     [,1] [,2] [,3]\n",
            "[1,]    1    3    5\n",
            "[2,]    2    4    6\n",
            "[1] 2 3\n"
          ],
          "name": "stdout"
        }
      ]
    },
    {
      "cell_type": "markdown",
      "metadata": {
        "id": "ivk1HyYK8jAb",
        "colab_type": "text"
      },
      "source": [
        "Subsetting a matrix is similar to subsetting a vector."
      ]
    },
    {
      "cell_type": "code",
      "metadata": {
        "id": "KALc4o447z7k",
        "colab_type": "code",
        "colab": {
          "base_uri": "https://localhost:8080/",
          "height": 127
        },
        "outputId": "eb1f7632-c355-4585-b011-fc3da053859b"
      },
      "source": [
        "print(y[1:2, c(1,3)])\n",
        "print(y[1:2, -2])"
      ],
      "execution_count": 15,
      "outputs": [
        {
          "output_type": "stream",
          "text": [
            "     [,1] [,2]\n",
            "[1,]    1    5\n",
            "[2,]    2    6\n",
            "     [,1] [,2]\n",
            "[1,]    1    5\n",
            "[2,]    2    6\n"
          ],
          "name": "stdout"
        }
      ]
    },
    {
      "cell_type": "markdown",
      "metadata": {
        "id": "ht0dIq6h8xXk",
        "colab_type": "text"
      },
      "source": [
        "Note that `[]` by default simplify the subsetting result to lowest possible dimension."
      ]
    },
    {
      "cell_type": "code",
      "metadata": {
        "id": "WDv1TE3E8l9O",
        "colab_type": "code",
        "colab": {
          "base_uri": "https://localhost:8080/",
          "height": 35
        },
        "outputId": "c7881b15-a989-4ec7-ba57-f69dc9551077"
      },
      "source": [
        "# y[1, 1:2] gives a vector\n",
        "str(y[1, 1:2])"
      ],
      "execution_count": 16,
      "outputs": [
        {
          "output_type": "stream",
          "text": [
            " int [1:2] 1 3\n"
          ],
          "name": "stdout"
        }
      ]
    },
    {
      "cell_type": "markdown",
      "metadata": {
        "id": "mLrOU2PA9H5I",
        "colab_type": "text"
      },
      "source": [
        "Matrix algebra is easy. See here for a list of R matrix operations, https://www.statmethods.net/advstats/matrix.html."
      ]
    },
    {
      "cell_type": "code",
      "metadata": {
        "id": "fI4QLZuu88ve",
        "colab_type": "code",
        "colab": {
          "base_uri": "https://localhost:8080/",
          "height": 403
        },
        "outputId": "f7df6f57-110c-4c05-ea55-5e5885d68af3"
      },
      "source": [
        "# define two matrics\n",
        "m1 <- matrix(1:4, nrow = 2)\n",
        "m2 <- matrix(5:8, nrow = 2)\n",
        "print(m1)\n",
        "print(m2)\n",
        "\n",
        "# element-wise multiplication\n",
        "print(m1 * m2)\n",
        "\n",
        "# matrix multiplication\n",
        "print(m1 %*% m2)\n",
        "\n",
        "# transpose\n",
        "print(t(m1))\n",
        "\n",
        "# solve Ax = b problem\n",
        "b <- matrix(7:8, nrow = 2)\n",
        "print(b)\n",
        "print(solve(m1, b))"
      ],
      "execution_count": 17,
      "outputs": [
        {
          "output_type": "stream",
          "text": [
            "     [,1] [,2]\n",
            "[1,]    1    3\n",
            "[2,]    2    4\n",
            "     [,1] [,2]\n",
            "[1,]    5    7\n",
            "[2,]    6    8\n",
            "     [,1] [,2]\n",
            "[1,]    5   21\n",
            "[2,]   12   32\n",
            "     [,1] [,2]\n",
            "[1,]   23   31\n",
            "[2,]   34   46\n",
            "     [,1] [,2]\n",
            "[1,]    1    2\n",
            "[2,]    3    4\n",
            "     [,1]\n",
            "[1,]    7\n",
            "[2,]    8\n",
            "     [,1]\n",
            "[1,]   -2\n",
            "[2,]    3\n"
          ],
          "name": "stdout"
        }
      ]
    },
    {
      "cell_type": "markdown",
      "metadata": {
        "id": "Mxpugw9l-SPn",
        "colab_type": "text"
      },
      "source": [
        "## 2.4 Data frame\n",
        "\n",
        "A data frame is like a 2-D table in Excel. More precisely, it is a list of vectors (as columns) with equal length, and plus a few extra attributes (let's not get into attributes of a data structure today).\n"
      ]
    },
    {
      "cell_type": "code",
      "metadata": {
        "id": "BHnfAa7z9SDu",
        "colab_type": "code",
        "colab": {
          "base_uri": "https://localhost:8080/",
          "height": 90
        },
        "outputId": "756acbe1-960b-40fe-fd9b-ad4a92574be4"
      },
      "source": [
        "df1 <- data.frame(x = 1:3, y = letters[1:3], z = c(1.1, 2.2, 3.3))\n",
        "\n",
        "print(df1)"
      ],
      "execution_count": 18,
      "outputs": [
        {
          "output_type": "stream",
          "text": [
            "  x y   z\n",
            "1 1 a 1.1\n",
            "2 2 b 2.2\n",
            "3 3 c 3.3\n"
          ],
          "name": "stdout"
        }
      ]
    },
    {
      "cell_type": "code",
      "metadata": {
        "id": "Ov-vUMDT_96M",
        "colab_type": "code",
        "colab": {
          "base_uri": "https://localhost:8080/",
          "height": 90
        },
        "outputId": "ee34b7e1-c3ca-4ced-9cc8-c171127c2b58"
      },
      "source": [
        "str(df1)"
      ],
      "execution_count": 19,
      "outputs": [
        {
          "output_type": "stream",
          "text": [
            "'data.frame':\t3 obs. of  3 variables:\n",
            " $ x: int  1 2 3\n",
            " $ y: Factor w/ 3 levels \"a\",\"b\",\"c\": 1 2 3\n",
            " $ z: num  1.1 2.2 3.3\n"
          ],
          "name": "stdout"
        }
      ]
    },
    {
      "cell_type": "markdown",
      "metadata": {
        "id": "K9ru0FgyAigO",
        "colab_type": "text"
      },
      "source": [
        "By default, `data.frame()` turn character vector into a factor variable (categorical variable). Use `stringsAsFactors = FALSE` to disable this behavior."
      ]
    },
    {
      "cell_type": "code",
      "metadata": {
        "id": "wYglo3K8ALoy",
        "colab_type": "code",
        "colab": {
          "base_uri": "https://localhost:8080/",
          "height": 72
        },
        "outputId": "36d23300-7fca-4531-b9f2-ef6050a530e9"
      },
      "source": [
        "# use 'stringsAsFactors = FALSE' to keep strings as they are\n",
        "df2 <- data.frame(\n",
        "  x = 1:3,\n",
        "  y = c(\"a\", \"b\", \"c\"),\n",
        "  stringsAsFactors = FALSE\n",
        ")\n",
        "str(df2)"
      ],
      "execution_count": 20,
      "outputs": [
        {
          "output_type": "stream",
          "text": [
            "'data.frame':\t3 obs. of  2 variables:\n",
            " $ x: int  1 2 3\n",
            " $ y: chr  \"a\" \"b\" \"c\"\n"
          ],
          "name": "stdout"
        }
      ]
    },
    {
      "cell_type": "markdown",
      "metadata": {
        "id": "nGi5BPC_CDHc",
        "colab_type": "text"
      },
      "source": [
        "It's often useful to find out column names and number of columns and rows."
      ]
    },
    {
      "cell_type": "code",
      "metadata": {
        "id": "_IP6t06PAhfS",
        "colab_type": "code",
        "colab": {
          "base_uri": "https://localhost:8080/",
          "height": 109
        },
        "outputId": "8df66167-3c33-4ddb-ae62-fdc995c1310d"
      },
      "source": [
        "# find out column names using names() or colnames()\n",
        "print(names(df1))\n",
        "print(colnames(df1))\n",
        "\n",
        "# find out number of columns\n",
        "print(length(df1))\n",
        "print(ncol(df1))\n",
        "\n",
        "# find out number of rows\n",
        "print(nrow(df1))"
      ],
      "execution_count": 21,
      "outputs": [
        {
          "output_type": "stream",
          "text": [
            "[1] \"x\" \"y\" \"z\"\n",
            "[1] \"x\" \"y\" \"z\"\n",
            "[1] 3\n",
            "[1] 3\n",
            "[1] 3\n"
          ],
          "name": "stdout"
        }
      ]
    },
    {
      "cell_type": "markdown",
      "metadata": {
        "id": "gCokeogKC38l",
        "colab_type": "text"
      },
      "source": [
        "Subsetting a dataframe is similar to that of a list or matrix."
      ]
    },
    {
      "cell_type": "code",
      "metadata": {
        "id": "_VzjneA_CKi_",
        "colab_type": "code",
        "colab": {
          "base_uri": "https://localhost:8080/",
          "height": 90
        },
        "outputId": "188faacf-e4cc-4874-a5ee-2c1569654b81"
      },
      "source": [
        "# select a single column using []\n",
        "print(df1['x'])"
      ],
      "execution_count": 22,
      "outputs": [
        {
          "output_type": "stream",
          "text": [
            "  x\n",
            "1 1\n",
            "2 2\n",
            "3 3\n"
          ],
          "name": "stdout"
        }
      ]
    },
    {
      "cell_type": "code",
      "metadata": {
        "id": "QF_OOiHuGfVr",
        "colab_type": "code",
        "colab": {
          "base_uri": "https://localhost:8080/",
          "height": 54
        },
        "outputId": "ac3f4456-3902-4908-e84a-2f7290caede7"
      },
      "source": [
        "# note the result of df1['x'] is still a dataframe\n",
        "str(df1['x'])"
      ],
      "execution_count": 23,
      "outputs": [
        {
          "output_type": "stream",
          "text": [
            "'data.frame':\t3 obs. of  1 variable:\n",
            " $ x: int  1 2 3\n"
          ],
          "name": "stdout"
        }
      ]
    },
    {
      "cell_type": "code",
      "metadata": {
        "id": "iMtvu4dVGj-X",
        "colab_type": "code",
        "colab": {
          "base_uri": "https://localhost:8080/",
          "height": 54
        },
        "outputId": "a412f8b2-ed79-4793-d64a-682fdc8d2453"
      },
      "source": [
        "# select a single column using [[]]\n",
        "print(df1[['x']])\n",
        "\n",
        "# note the result is NOT a dataframe any more. It's a vector.\n",
        "str(df1[['x']])"
      ],
      "execution_count": 24,
      "outputs": [
        {
          "output_type": "stream",
          "text": [
            "[1] 1 2 3\n",
            " int [1:3] 1 2 3\n"
          ],
          "name": "stdout"
        }
      ]
    },
    {
      "cell_type": "code",
      "metadata": {
        "id": "Doz-jC1MGwu8",
        "colab_type": "code",
        "colab": {
          "base_uri": "https://localhost:8080/",
          "height": 90
        },
        "outputId": "8c0f301b-a08f-4b36-b0bd-d99c16423790"
      },
      "source": [
        "# select multiple columns\n",
        "print(df1[c('x', 'z')])"
      ],
      "execution_count": 25,
      "outputs": [
        {
          "output_type": "stream",
          "text": [
            "  x   z\n",
            "1 1 1.1\n",
            "2 2 2.2\n",
            "3 3 3.3\n"
          ],
          "name": "stdout"
        }
      ]
    },
    {
      "cell_type": "code",
      "metadata": {
        "id": "d6dlbNGzG43N",
        "colab_type": "code",
        "colab": {
          "base_uri": "https://localhost:8080/",
          "height": 72
        },
        "outputId": "b7aad9c3-3e85-4772-d317-af26310f4a30"
      },
      "source": [
        "# select multiple columns\n",
        "print(df1[1:2, c('x', 'z')])"
      ],
      "execution_count": 26,
      "outputs": [
        {
          "output_type": "stream",
          "text": [
            "  x   z\n",
            "1 1 1.1\n",
            "2 2 2.2\n"
          ],
          "name": "stdout"
        }
      ]
    },
    {
      "cell_type": "markdown",
      "metadata": {
        "id": "0jznnJ7bIFNw",
        "colab_type": "text"
      },
      "source": [
        "# 3 Programming Structure\n",
        "\n",
        "## 3.1 Three basic control flows\n",
        "\n",
        "### 3.1.1 Sequence\n",
        "\n",
        "Code runs line by line in sequence with no conditional executions or loops. For example, let's write some code to calculate the following sum of squares.\n",
        "\n",
        "$$y = \\sum_{t=1}^{3} t^2.$$"
      ]
    },
    {
      "cell_type": "code",
      "metadata": {
        "id": "Fny7lInQHD-L",
        "colab_type": "code",
        "colab": {
          "base_uri": "https://localhost:8080/",
          "height": 35
        },
        "outputId": "81080155-65c9-4bb9-9e00-ff07c28168a6"
      },
      "source": [
        "# sum of squares\n",
        "t <- 1:3\n",
        "y <- sum(t^2)\n",
        "print(y)"
      ],
      "execution_count": 27,
      "outputs": [
        {
          "output_type": "stream",
          "text": [
            "[1] 14\n"
          ],
          "name": "stdout"
        }
      ]
    },
    {
      "cell_type": "markdown",
      "metadata": {
        "id": "tO0L5S-RKQf5",
        "colab_type": "text"
      },
      "source": [
        "###3.1.2 Selection / Conditional execution\n",
        "\n",
        "```\n",
        "# if, else\n",
        "if (condition) {\n",
        "  # code executed when condition is TRUE\n",
        "} else {\n",
        "  # code executed when condition is FALSE\n",
        "}\n",
        "```\n",
        "\n",
        "```\n",
        "# if, else if, else\n",
        "if (condition1) {\n",
        "  # do something when condition1 is TRUE\n",
        "} else if (conditon2) {\n",
        "  # do something else if condition1 is FALSE but condition2 is TRUE\n",
        "} else {\n",
        "  # do something if neither condition1 nor condition2 is TRUE\n",
        "}\n",
        "```\n",
        "\n",
        "For example, if the above sum of squares `y > 10` then print out \"result greater than 10\", or otherwise print out \"result less or equal to 10\"."
      ]
    },
    {
      "cell_type": "code",
      "metadata": {
        "id": "B5go6C6mJ9Q6",
        "colab_type": "code",
        "colab": {
          "base_uri": "https://localhost:8080/",
          "height": 0
        },
        "outputId": "d9d2a18a-ee9b-41a7-df0d-f7e98bda1883"
      },
      "source": [
        "if (y > 10) {\n",
        "  print(\"result greater than 10\")\n",
        "} else {\n",
        "  print(\"result less or equal to 10\")\n",
        "}\n"
      ],
      "execution_count": 28,
      "outputs": [
        {
          "output_type": "stream",
          "text": [
            "[1] \"result greater than 10\"\n"
          ],
          "name": "stdout"
        }
      ]
    },
    {
      "cell_type": "markdown",
      "metadata": {
        "id": "MrCK1-6iLAGw",
        "colab_type": "text"
      },
      "source": [
        "### 3.1.3 Iteration\n",
        "\n",
        "```\n",
        "# for loop\n",
        "for (var in seq) {\n",
        "  do something\n",
        "}\n",
        "```\n",
        "\n",
        "```\n",
        "# while loop\n",
        "while (condition) {\n",
        "  do something if condition is TRUE\n",
        "}\n",
        "```\n",
        "\n",
        "For example, let's solve the above sum of squares using a loop."
      ]
    },
    {
      "cell_type": "code",
      "metadata": {
        "id": "fn9BKoYIK64M",
        "colab_type": "code",
        "colab": {
          "base_uri": "https://localhost:8080/",
          "height": 0
        },
        "outputId": "cd948679-7ea5-4a16-a7be-4248fe77be5d"
      },
      "source": [
        "t <- 1:3\n",
        "y <- 0\n",
        "\n",
        "for (x in t) {\n",
        "  y <- y + x^2\n",
        "}\n",
        "\n",
        "print(y)\n"
      ],
      "execution_count": 29,
      "outputs": [
        {
          "output_type": "stream",
          "text": [
            "[1] 14\n"
          ],
          "name": "stdout"
        }
      ]
    },
    {
      "cell_type": "markdown",
      "metadata": {
        "id": "L0dyu9ONMbKr",
        "colab_type": "text"
      },
      "source": [
        "#### Exercise - 3.1.3\n",
        "\n",
        "Calculate the above sum using a while loop."
      ]
    },
    {
      "cell_type": "code",
      "metadata": {
        "id": "TIsqvN6hMLEz",
        "colab_type": "code",
        "colab": {}
      },
      "source": [
        "# your code goes here"
      ],
      "execution_count": 0,
      "outputs": []
    },
    {
      "cell_type": "markdown",
      "metadata": {
        "id": "-wi8_fs0M2fj",
        "colab_type": "text"
      },
      "source": [
        "##3.2 Functions\n",
        "\n",
        "A function is a unit of code block that (usually) takes in some inputs (arguments) and returns a result. We have already used many R functions, for example, `print()` and `length()`.\n",
        "\n",
        "The two main reasons to write functions are *reusability* and *abstraction*. If you find yourself repeating the same code logic or if you want to divide a large piece of code into small logical units, you should consider writing functions.\n",
        "\n",
        "In fact, \"everything that happens [in R] is a function call.\" (John Chambers, the creator of the S programming language and a core member of the R project. R is modelled after S.) For example, even the plus operation \"`+`\" is a function.\n",
        "\n",
        "Let's write a slightly general version of sum of squares using a function.\n",
        "\n",
        "$$y = \\sum_{t=1}^{n} t^2.$$\n",
        "\n",
        "This function takes in 1 argument `n`, and return the sum `y` defined above."
      ]
    },
    {
      "cell_type": "code",
      "metadata": {
        "id": "i-UmaUXzMjxt",
        "colab_type": "code",
        "colab": {
          "base_uri": "https://localhost:8080/",
          "height": 54
        },
        "outputId": "a8efce1b-2cfa-4765-8a47-f2797cbb811c"
      },
      "source": [
        "ss <- function(n) {\n",
        "  t <- 1:n\n",
        "  \n",
        "  # the last expression is automatically returned\n",
        "  # or otherwise, you could write return(sum(t^2))\n",
        "  sum(t^2)\n",
        "}\n",
        "\n",
        "print(ss(2))\n",
        "print(ss(3))"
      ],
      "execution_count": 31,
      "outputs": [
        {
          "output_type": "stream",
          "text": [
            "[1] 5\n",
            "[1] 14\n"
          ],
          "name": "stdout"
        }
      ]
    },
    {
      "cell_type": "markdown",
      "metadata": {
        "id": "sGGZO1W0PeAz",
        "colab_type": "text"
      },
      "source": [
        "### Exercise - 3.2 (self-study)\n",
        "\n",
        "Write an R function to calculate $$y = \\sum_{t=1}^{n} f(t),$$ where $n$ is an integer and $f()$ is a generic function that you can define later (e.g. $f(t) = t ^ 2$ or $f(t) = t ^ 3$). The R function takes in two argument, `n` and `f` as in the above formula, and returns the sum $y$."
      ]
    },
    {
      "cell_type": "code",
      "metadata": {
        "id": "upb5zNGjOBh6",
        "colab_type": "code",
        "colab": {}
      },
      "source": [
        "# your code here\n",
        "\n",
        "f_sum <- function(f, n) {\n",
        "  if (n < 1 || !is.integer(n)) {\n",
        "    stop(\"argument input error!\")\n",
        "  }\n",
        "  \n",
        "  y <- 0\n",
        "  t <- 1L\n",
        "  \n",
        "  while (t <= n) {\n",
        "    y = y + f(t)\n",
        "    t = t + 1L\n",
        "  }\n",
        "  \n",
        "  return(y)\n",
        "}"
      ],
      "execution_count": 0,
      "outputs": []
    },
    {
      "cell_type": "code",
      "metadata": {
        "id": "wkzUyi_ORGSR",
        "colab_type": "code",
        "colab": {
          "base_uri": "https://localhost:8080/",
          "height": 54
        },
        "outputId": "2d8c78cb-858c-4494-c2ff-0d767a235194"
      },
      "source": [
        "# if your code works as intended, the following should run\n",
        "\n",
        "# define t squared\n",
        "f1 <- function(t) {\n",
        "  t^2\n",
        "}\n",
        "\n",
        "print(f_sum(f1, 3L))\n",
        "\n",
        "# let's calculate pi\n",
        "# calculate pi using the pi formula\n",
        "f_pi <- function(x) {\n",
        "  4 * (-1) ^ (x + 1) / (2 * x - 1)\n",
        "}\n",
        "\n",
        "print(f_sum(f_pi, 10000L))"
      ],
      "execution_count": 33,
      "outputs": [
        {
          "output_type": "stream",
          "text": [
            "[1] 14\n",
            "[1] 3.141493\n"
          ],
          "name": "stdout"
        }
      ]
    },
    {
      "cell_type": "code",
      "metadata": {
        "id": "nTwPOHKYR_8x",
        "colab_type": "code",
        "colab": {}
      },
      "source": [
        ""
      ],
      "execution_count": 0,
      "outputs": []
    }
  ]
}